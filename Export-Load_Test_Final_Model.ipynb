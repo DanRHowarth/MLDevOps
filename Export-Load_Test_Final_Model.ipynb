{
 "cells": [
  {
   "cell_type": "markdown",
   "source": [
    "## Export Model"
   ],
   "metadata": {
    "collapsed": false,
    "pycharm": {
     "name": "#%% md\n"
    }
   }
  },
  {
   "cell_type": "code",
   "execution_count": null,
   "outputs": [],
   "source": [
    "## this function exports a model using mlflow\n",
    "## and saves it as an artefact to w&b\n",
    "## the temp directory is created to store the model prior to uploading to mlflow\n",
    "\n",
    "def export_model(run, pipe, X_val, val_pred, export_artifact):\n",
    "\n",
    "    # Infer the signature of the model\n",
    "    signature = infer_signature(X_val, val_pred)\n",
    "\n",
    "    with tempfile.TemporaryDirectory() as temp_dir:\n",
    "\n",
    "        export_path = os.path.join(temp_dir, \"model_export\")\n",
    "\n",
    "        mlflow.sklearn.save_model(\n",
    "            pipe,\n",
    "            export_path,\n",
    "            serialization_format=mlflow.sklearn.SERIALIZATION_FORMAT_CLOUDPICKLE,\n",
    "            signature=signature,\n",
    "            input_example=X_val.iloc[:2],\n",
    "        )\n",
    "\n",
    "        artifact = wandb.Artifact(\n",
    "            export_artifact,\n",
    "            type=\"model_export\",\n",
    "            description=\"Random Forest pipeline export\",\n",
    "        )\n",
    "        artifact.add_dir(export_path)\n",
    "\n",
    "        run.log_artifact(artifact)\n",
    "\n",
    "        # Make sure the artifact is uploaded before the temp dir\n",
    "        # gets deleted\n",
    "        artifact.wait()"
   ],
   "metadata": {
    "collapsed": false,
    "pycharm": {
     "name": "#%%\n"
    }
   }
  },
  {
   "cell_type": "markdown",
   "source": [
    "## Load and test final model"
   ],
   "metadata": {
    "collapsed": false,
    "pycharm": {
     "name": "#%% md\n"
    }
   }
  },
  {
   "cell_type": "code",
   "execution_count": null,
   "outputs": [],
   "source": [
    "## Script that loads in the final model and tests it against a test set\n",
    "# load test data from w&b\n",
    "# load in model using mlflow, using model artfects stored in w&b\n",
    "# score the model, create charts such as a confusion matrix, and log these to w&b\n",
    "\n",
    "#!/usr/bin/env python\n",
    "import argparse\n",
    "import logging\n",
    "import pandas as pd\n",
    "import wandb\n",
    "import mlflow.sklearn\n",
    "import matplotlib.pyplot as plt\n",
    "from sklearn.metrics import roc_auc_score, plot_confusion_matrix\n",
    "\n",
    "logging.basicConfig(level=logging.INFO, format=\"%(asctime)-15s %(message)s\")\n",
    "logger = logging.getLogger()\n",
    "\n",
    "\n",
    "def go(args):\n",
    "\n",
    "    run = wandb.init(project=\"exercise_13\", job_type=\"test\")\n",
    "\n",
    "    logger.info(\"Downloading and reading test artifact\")\n",
    "    test_data_path = run.use_artifact(args.test_data).file()\n",
    "    df = pd.read_csv(test_data_path, low_memory=False)\n",
    "\n",
    "    # Extract the target from the features\n",
    "    logger.info(\"Extracting target from dataframe\")\n",
    "    X_test = df.copy()\n",
    "    y_test = X_test.pop(\"genre\")\n",
    "\n",
    "    ## YOUR CODE HERE\n",
    "    logger.info(\"Downloading and reading the exported model\")\n",
    "    model_export_path = run.use_artifact(args.model_export).download()\n",
    "\n",
    "    ## YOUR CODE HERE\n",
    "    pipe = mlflow.sklearn.load_model(model_export_path)\n",
    "\n",
    "    ## YOUR CODE HERE\n",
    "    pred_proba = pipe.predict_proba(X_test)\n",
    "\n",
    "    logger.info(\"Scoring\")\n",
    "    score = roc_auc_score(y_test, pred_proba, average=\"macro\", multi_class=\"ovo\")\n",
    "\n",
    "    run.summary[\"AUC\"] = score\n",
    "\n",
    "    logger.info(\"Computing confusion matrix\")\n",
    "    fig_cm, sub_cm = plt.subplots(figsize=(10, 10))\n",
    "    plot_confusion_matrix(\n",
    "        pipe,\n",
    "        X_test,\n",
    "        y_test,\n",
    "        ax=sub_cm,\n",
    "        normalize=\"true\",\n",
    "        values_format=\".1f\",\n",
    "        xticks_rotation=90,\n",
    "    )\n",
    "    fig_cm.tight_layout()\n",
    "\n",
    "    run.log(\n",
    "        {\n",
    "            \"confusion_matrix\": wandb.Image(fig_cm)\n",
    "        }\n",
    "    )\n",
    "\n",
    "\n",
    "if __name__ == \"__main__\":\n",
    "    parser = argparse.ArgumentParser(\n",
    "        description=\"Test the provided model on the test artifact\",\n",
    "        fromfile_prefix_chars=\"@\",\n",
    "    )\n",
    "\n",
    "    parser.add_argument(\n",
    "        \"--model_export\",\n",
    "        type=str,\n",
    "        help=\"Fully-qualified artifact name for the exported model to evaluate\",\n",
    "        required=True,\n",
    "    )\n",
    "\n",
    "    parser.add_argument(\n",
    "        \"--test_data\",\n",
    "        type=str,\n",
    "        help=\"Fully-qualified artifact name for the test data\",\n",
    "        required=True,\n",
    "    )\n",
    "\n",
    "    args = parser.parse_args()\n",
    "\n",
    "    go(args)"
   ],
   "metadata": {
    "collapsed": false,
    "pycharm": {
     "name": "#%%\n"
    }
   }
  }
 ],
 "metadata": {
  "kernelspec": {
   "display_name": "Python 3",
   "language": "python",
   "name": "python3"
  },
  "language_info": {
   "codemirror_mode": {
    "name": "ipython",
    "version": 2
   },
   "file_extension": ".py",
   "mimetype": "text/x-python",
   "name": "python",
   "nbconvert_exporter": "python",
   "pygments_lexer": "ipython2",
   "version": "2.7.6"
  }
 },
 "nbformat": 4,
 "nbformat_minor": 0
}