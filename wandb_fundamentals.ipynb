{
 "cells": [
  {
   "cell_type": "markdown",
   "source": [
    "## Weights and Biases Fundamentals\n",
    "* This notebook covers W&B fundamentals\n",
    "  * Artefacts\n",
    "   * Runs\n",
    "   * Using scripts to create and use an artefact\n",
    "* See slides [here](https://docs.google.com/presentation/d/1R5RLXXCvCXvFeUONR1R81ZZSkRxhMYO8CA63Nmvh7ww/edit?usp=sharing) for summary of how the different elements of W&B fit together"
   ],
   "metadata": {
    "collapsed": false,
    "pycharm": {
     "name": "#%% md\n"
    }
   }
  },
  {
   "cell_type": "code",
   "execution_count": null,
   "outputs": [],
   "source": [
    "import pandas as pd\n",
    "\n",
    "import wandb"
   ],
   "metadata": {
    "collapsed": false,
    "pycharm": {
     "name": "#%%\n"
    }
   }
  },
  {
   "cell_type": "markdown",
   "source": [
    "### 1. Artefacts - Runs\n",
    "* Create artefact (a file, the output of a component)\n",
    "* Start a run\n",
    "    * Attach the artefact to wandb artefact object\n",
    "    * Add artefact to run\n",
    "* Close run\n",
    "* Runs can be managed using context managers"
   ],
   "metadata": {
    "collapsed": false,
    "pycharm": {
     "name": "#%% md\n"
    }
   }
  },
  {
   "cell_type": "markdown",
   "source": [
    "* Once we have a file we want to attach as an artefact, we:\n",
    "    * create an artefact object in W&B\n",
    "    * attach file to artefact object\n",
    "    * log artefact object in W&B\n",
    "* Note we have to create and finish a run to successfully log the artefact"
   ],
   "metadata": {
    "collapsed": false,
    "pycharm": {
     "name": "#%% md\n"
    }
   }
  },
  {
   "cell_type": "code",
   "execution_count": null,
   "outputs": [],
   "source": [
    "# create run\n",
    "run = wandb.init(project=\"demo_artifact_1\", group=\"experiment_1\")"
   ],
   "metadata": {
    "collapsed": false,
    "pycharm": {
     "name": "#%%\n"
    }
   }
  },
  {
   "cell_type": "code",
   "execution_count": null,
   "outputs": [],
   "source": [
    "# create artifact object\n",
    "artifact = wandb.Artifact(\n",
    "    name=\"my_artifact.txt\",\n",
    "    type=\"data\",\n",
    "    description=\"This is an example of an artifact\",\n",
    "    metadata={\n",
    "        \"key_1\": \"value_1\"\n",
    "    }\n",
    ")"
   ],
   "metadata": {
    "collapsed": false,
    "pycharm": {
     "name": "#%%\n"
    }
   }
  },
  {
   "cell_type": "code",
   "execution_count": null,
   "outputs": [],
   "source": [
    "# add artifact to artifact object\n",
    "artifact.add_file(\"my_artifact.txt\")"
   ],
   "metadata": {
    "collapsed": false,
    "pycharm": {
     "name": "#%%\n"
    }
   }
  },
  {
   "cell_type": "code",
   "execution_count": null,
   "outputs": [],
   "source": [
    "# close run to add artifact to wandb server\n",
    "run.finish()"
   ],
   "metadata": {
    "collapsed": false,
    "pycharm": {
     "name": "#%%\n"
    }
   }
  },
  {
   "cell_type": "code",
   "execution_count": null,
   "outputs": [],
   "source": [
    "# use context managers\n",
    "# here we manage multiple runs\n",
    "# the manager closes the run\n",
    "\n",
    "with wandb.init(project=\"multiple_runs\") as run:\n",
    "\n",
    "    artifact = wandb.Artifact(\n",
    "    name=\"my_artifact.txt\",\n",
    "    type=\"data\",\n",
    "    description=\"This is an example of an artifact\",\n",
    "    metadata={\n",
    "        \"key_1\": \"value_1\"\n",
    "    }\n",
    "    )\n",
    "    artifact.add_file(\"my_artifact.txt\")\n",
    "\n",
    "with wandb.init(project=\"multiple_runs\") as run:\n",
    "\n",
    "    artifact = wandb.Artifact(\n",
    "    name=\"my_artifact.txt\",\n",
    "    type=\"data\",\n",
    "    description=\"This is an example of an artifact\",\n",
    "    metadata={\n",
    "        \"key_1\": \"value_1\"\n",
    "    }\n",
    "    )\n",
    "    artifact.add_file(\"my_artifact.txt\")"
   ],
   "metadata": {
    "collapsed": false,
    "pycharm": {
     "name": "#%%\n"
    }
   }
  },
  {
   "cell_type": "code",
   "execution_count": null,
   "outputs": [],
   "source": [
    "## example of adding atrefact from the command line\n",
    "\n",
    "wandb artifact put \\\n",
    "      --name exercise_4/genres_mod.parquet \\\n",
    "      --type raw_data \\\n",
    "      --description \"A modified version of the songs dataset\" genres_mod.parquet"
   ],
   "metadata": {
    "collapsed": false,
    "pycharm": {
     "name": "#%%\n"
    }
   }
  },
  {
   "cell_type": "markdown",
   "source": [],
   "metadata": {
    "collapsed": false,
    "pycharm": {
     "name": "#%% md\n"
    }
   }
  },
  {
   "cell_type": "markdown",
   "source": [
    "### 2. Using scripts to create and use artefacts"
   ],
   "metadata": {
    "collapsed": false,
    "pycharm": {
     "name": "#%% md\n"
    }
   }
  },
  {
   "cell_type": "markdown",
   "source": [
    "Examples of a script to:\n",
    " * create an artefact - see `upload_artifact.py`, which can be run using:\n",
    "\n",
    "`python upload_artifact.py --input_file zen.txt \\\n",
    "              --artifact_name zen_of_python \\\n",
    "              --artifact_type text_file \\\n",
    "              --artifact_description \"20 aphorisms about writing good python code\"`\n",
    "\n",
    "* this will log a v0 version of `zen.txt` to W&B\n",
    "* we can alter the `zen.txt` file, re-run the command line script, and this will log a v1 to W&B\n",
    "\n",
    "* use an artefact - see `use_artifact.py`, which can be run using:\n",
    "\n",
    "`python use_artifact.py --artifact_name exercise_1/zen_of_python:v1`\n",
    "\n",
    "* this will return the file contents."
   ],
   "metadata": {
    "collapsed": false,
    "pycharm": {
     "name": "#%% md\n"
    }
   }
  },
  {
   "cell_type": "code",
   "execution_count": null,
   "outputs": [],
   "source": [
    "# once we have started a run:\n",
    "\n",
    "# we get the artifact locally and then get its path\n",
    "atrifact = run.use_artifact('path')\n",
    "local_path = atrifact.file()\n",
    "\n",
    "pd.read_parquet(local_path)"
   ],
   "metadata": {
    "collapsed": false,
    "pycharm": {
     "name": "#%%\n"
    }
   }
  },
  {
   "cell_type": "code",
   "execution_count": null,
   "outputs": [],
   "source": [],
   "metadata": {
    "collapsed": false,
    "pycharm": {
     "name": "#%%\n"
    }
   }
  },
  {
   "cell_type": "markdown",
   "source": [
    "### 3. Using W&B to log EDA\n",
    "* Write an MLflow component that installs Jupyter and all the libraries that we need, and execute the EDA as a notebook from within this component\n",
    "* Embed plots and comments into the Jupyter notebook itself\n",
    "* Track inputs and outputs of the notebook with your artifact tracking, in our case Weights & Biases"
   ],
   "metadata": {
    "collapsed": false,
    "pycharm": {
     "name": "#%% md\n"
    }
   }
  },
  {
   "cell_type": "code",
   "execution_count": null,
   "outputs": [],
   "source": [
    "# Tracking a notebook in W&B is as simple as adding the save_code=True option when creating the run:\n",
    "\n",
    "run = wandb.init(\n",
    "  project=\"my_exercise\",\n",
    "  save_code=True\n",
    ")"
   ],
   "metadata": {
    "collapsed": false,
    "pycharm": {
     "name": "#%%\n"
    }
   }
  }
 ],
 "metadata": {
  "kernelspec": {
   "display_name": "Python 3",
   "language": "python",
   "name": "python3"
  },
  "language_info": {
   "codemirror_mode": {
    "name": "ipython",
    "version": 2
   },
   "file_extension": ".py",
   "mimetype": "text/x-python",
   "name": "python",
   "nbconvert_exporter": "python",
   "pygments_lexer": "ipython2",
   "version": "2.7.6"
  }
 },
 "nbformat": 4,
 "nbformat_minor": 0
}