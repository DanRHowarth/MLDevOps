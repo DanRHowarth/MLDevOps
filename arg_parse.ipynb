{
 "cells": [
  {
   "cell_type": "markdown",
   "source": [
    "## Overview of argpase\n",
    "* This notebook summarises basic argparse usage"
   ],
   "metadata": {
    "collapsed": false,
    "pycharm": {
     "name": "#%% md\n"
    }
   }
  },
  {
   "cell_type": "code",
   "execution_count": 2,
   "outputs": [],
   "source": [
    "import argparse"
   ],
   "metadata": {
    "collapsed": false,
    "pycharm": {
     "name": "#%%\n"
    }
   }
  },
  {
   "cell_type": "markdown",
   "source": [
    "### 1. Basic Syntax"
   ],
   "metadata": {
    "collapsed": false,
    "pycharm": {
     "name": "#%% md\n"
    }
   }
  },
  {
   "cell_type": "code",
   "execution_count": null,
   "outputs": [],
   "source": [
    "# create parser\n",
    "parser = argparse.ArgumentParser(\n",
    "    description=\"This is a tutorial on argparse\"\n",
    ")\n",
    "\n",
    "# add arguments\n",
    "parser.add_argument(\n",
    "    \"--artifact_name\", type=str, help=\"Name and version of W&B artifact\", required=True\n",
    ")\n",
    "\n",
    "parser.add_argument(\n",
    "    \"--optional_arg\", type=float, help=\"An optional argument\", required=False,\n",
    "    default=2.3\n",
    ")\n",
    "\n",
    "# required - to follow-up on how this pulls the arguments together\n",
    "args = parser.parse_args()"
   ],
   "metadata": {
    "collapsed": false,
    "pycharm": {
     "name": "#%%\n"
    }
   }
  },
  {
   "cell_type": "markdown",
   "source": [
    "### 2. Structure"
   ],
   "metadata": {
    "collapsed": false,
    "pycharm": {
     "name": "#%% md\n"
    }
   }
  },
  {
   "cell_type": "code",
   "execution_count": null,
   "outputs": [],
   "source": [
    "# guidance to structure the arg parse arguments under a main block\n",
    "\n",
    "if __name__ == '__main__':\n",
    "\n",
    "    # add in parser arguments\n",
    "\n",
    "    # function to run script"
   ],
   "metadata": {
    "collapsed": false,
    "pycharm": {
     "name": "#%%\n"
    }
   }
  },
  {
   "cell_type": "code",
   "execution_count": null,
   "outputs": [],
   "source": [],
   "metadata": {
    "collapsed": false,
    "pycharm": {
     "name": "#%%\n"
    }
   }
  },
  {
   "cell_type": "markdown",
   "source": [
    "### 3. Structure of .py file"
   ],
   "metadata": {
    "collapsed": false,
    "pycharm": {
     "name": "#%% md\n"
    }
   }
  },
  {
   "cell_type": "code",
   "execution_count": null,
   "outputs": [],
   "source": [
    "# our go function, which takes the parser args\n",
    "\n",
    "def go (args):\n",
    "\n",
    "    # code that takes parser.args\n",
    "\n",
    "\n",
    "if __name__ == '__main__':\n",
    "\n",
    "    # set up parser here\n",
    "\n",
    "    # call the function\n",
    "    go (args)"
   ],
   "metadata": {
    "collapsed": false,
    "pycharm": {
     "name": "#%%\n"
    }
   }
  },
  {
   "cell_type": "markdown",
   "source": [
    "### 3. Questions\n",
    "* How to pass command line argument into code\n",
    "* add info on parameters when creating args - default, optional, description etc."
   ],
   "metadata": {
    "collapsed": false,
    "pycharm": {
     "name": "#%% md\n"
    }
   }
  }
 ],
 "metadata": {
  "kernelspec": {
   "display_name": "Python 3",
   "language": "python",
   "name": "python3"
  },
  "language_info": {
   "codemirror_mode": {
    "name": "ipython",
    "version": 2
   },
   "file_extension": ".py",
   "mimetype": "text/x-python",
   "name": "python",
   "nbconvert_exporter": "python",
   "pygments_lexer": "ipython2",
   "version": "2.7.6"
  }
 },
 "nbformat": 4,
 "nbformat_minor": 0
}